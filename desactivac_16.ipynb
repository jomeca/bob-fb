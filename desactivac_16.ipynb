{
 "cells": [
  {
   "cell_type": "markdown",
   "metadata": {
    "slideshow": {
     "slide_type": "slide"
    }
   },
   "source": [
    "### Modelo matemático de desactivación de los catalizadores. Una aproximación a la  actividad catalítica. \n",
    "#### autors: AdlS, JoMC\n",
    "\n",
    "Formula una idea. ...  \n",
    "Incluye tu punto de vista. ...  \n",
    "Identifica tu público. ...  \n",
    "Busca antecedentes. ...  \n",
    "El principio debe ser cautivador. ...  \n",
    "Incluye conclusión. ...  \n",
    "Relee.  \n",
    "\n",
    "Análisis por atomización en el tiempo del rxn\n",
    "\n",
    "https://www.sciencedirect.com/science/article/pii/S2211339814000264?casa_token=RwCn_ezJblcAAAAA:bIDNZxM9XWuFkQZA3bhw5sefCi8OnYRzdYp-V25BHYyH8SwgeEhgZop4KAohPSwM8PZd3ro4Pw\n",
    "\n",
    "https://www.sciencedirect.com/topics/chemical-engineering/catalyst-deactivation"
   ]
  },
  {
   "cell_type": "markdown",
   "metadata": {
    "slideshow": {
     "slide_type": "slide"
    }
   },
   "source": [
    "#### Introducción\n",
    "El objeto de estudio es la exposición de una metodología para el modelado de procesos catalíticos (desactivación y reacción), en el seno de los reactores. A lo largo del estudio iremos desarrollando los recursos analíticos con base compuntacional asociada a la evolución de la actividad catalítica. \n",
    "El camino se emprende con el desarrollo empírico de un prototipo de desactivación. Explicaremos la metodología cuya finalidad expresa con datos la exploración de la actividad catalítica en el seno de los reactores, como ya hemos comentado.  \n",
    "La desactivación se hace evidente por la disminución en el tiempo de la velocidades de reacción. debiéndose esta pérdida de actividad a: deposición de coque, sinterización de las poros activos, envenenamiento e inhibición por compuestos en la carga.  \n",
    "Dado que el origen de la desactivación posee varias fuentes, se considera que la ecuación cinética de desactivación queda bien representada con una relación entre la actividad y las fuentes de desactivación. Partiendo de la naturaleza poco definida de esta, sería conveniente que el modelo relacione la desactivación con las condiciones de operación, además del tiempo,  la caracterización de la carga y dimensiones del reactor, tenemos condiciones de producción como: caudales y temperaturas.  \n",
    "Se propone una serie de ecuaciones cinéticas de desactivación considerando a los compuestos $C_i$ mayoritarios a la entreada del reactor, como principales precursores de la desactivación.   La expresión para reacciones de desactivación de orden $n$ tendría la forma:  \n",
    "$$ \\frac{da}{dt}=-r_d=  -k_d\\,C_i^m a(t)^n = -k_{d_0}\\, e^{\\left(-\\frac{E_d}{RT}\\right)}C_i^m a(t)^n $$"
   ]
  },
  {
   "cell_type": "code",
   "execution_count": 1,
   "metadata": {
    "slideshow": {
     "slide_type": "subslide"
    }
   },
   "outputs": [],
   "source": [
    "from IPython.display import Math\n",
    "import numpy as np\n",
    "from scipy.integrate import odeint\n",
    "import matplotlib.pyplot as plt\n",
    "import ipywidgets as widgets\n",
    "from IPython.display import display\n",
    "from ipywidgets import interactive\n",
    "from sympy import *\n",
    "%matplotlib inline"
   ]
  },
  {
   "cell_type": "markdown",
   "metadata": {},
   "source": [
    "Definiciones de las ecuaciones EDO para distintas reacciones de disminución de la actividad, se dispone de diferentes ecuaciones diferenciales, así como sus soluciones. A saber:\n",
    "* Para desactivación independiente\n",
    "$$ \\frac{da}{dt}=-r_d=  -k_d\\, a(t)^n = -k_{d_0}\\, e^{\\left(-\\frac{E_d}{RT}\\right)} a(t)^n $$\n",
    "\n",
    "La ecuación que permite calcular la constante específica de velocidad $k_d$ a partir del factor de frecuencia $k_{d_0}$, la energía de activación $E_d$ y la temperatura absoluta $T$  \n",
    "Donde:  \n",
    "* $-\\frac{E_d}{RT}$, representa la fracción de colisiones moleculares que tienen energía igual o maquor que la energía de activación. \n",
    "* $k_{d_0}$, representa la frecuencia de las colisiones entre las moléculas de reactivo\n",
    "\n",
    "En nuestro análisis buscamos conocer a lo largo del tiempo el modelo empírico de desactivación de un reactor específico, para ello consideraremos que la temperatura utilizada en nuestro modelo propuesto corresponde a una representación de temperatura promedia de lecho por peso, conocida com temperatura WABT."
   ]
  },
  {
   "cell_type": "code",
   "execution_count": 2,
   "metadata": {
    "slideshow": {
     "slide_type": "slide"
    }
   },
   "outputs": [
    {
     "data": {
      "text/latex": [
       "$\\displaystyle \\frac{d}{d t} a{\\left(t \\right)} = - k_{d_0} a^{n}{\\left(t \\right)} e^{- \\frac{E_{d}}{R T}}$"
      ],
      "text/plain": [
       "Eq(Derivative(a(t), t), -k_{d_0}*a(t)**n*exp(-E_d/(R*T)))"
      ]
     },
     "execution_count": 2,
     "metadata": {},
     "output_type": "execute_result"
    }
   ],
   "source": [
    "# análisis simbólico del modelo de desactivación independiete para una cinética de orden 1. Se definen: parámetros y funciones\n",
    "R=   Symbol('R')  # 8,31·10-3 kJ·mol^-1·K\n",
    "T=   Symbol('T') # K\n",
    "Ed=  Symbol('E_d') # kJ·mol^-1\n",
    "Cim= Symbol('C_i^m')\n",
    "kd0= Symbol('k_{d_0}')  # constante de desactivación\n",
    "kd=  Function('kd')\n",
    "t=   Symbol('t')    # tiempos [s]\n",
    "n=   Symbol('n')    # entero, expresa el orden de la reacción\n",
    "a=   Function('a')\n",
    "# escribimos las funciones\n",
    "kd= kd0* exp(-Ed/(R*T))    \n",
    "rd= kd*a(t)**n # rd define la velocidad de desactiviación\n",
    "dadt=Eq(a(t).diff(t), -rd)   # escribimos la ecuación y la guardamos en 'dadt'\n",
    "dadt                         # se imprime el resultado"
   ]
  },
  {
   "cell_type": "code",
   "execution_count": 3,
   "metadata": {},
   "outputs": [
    {
     "data": {
      "text/latex": [
       "$\\displaystyle a{\\left(t \\right)} = C_{1} e^{- k_{d_0} t e^{- \\frac{E_{d}}{R T}}}$"
      ],
      "text/plain": [
       "Eq(a(t), C1*exp(-k_{d_0}*t*exp(-E_d/(R*T))))"
      ]
     },
     "execution_count": 3,
     "metadata": {},
     "output_type": "execute_result"
    }
   ],
   "source": [
    "# Resolviendo la ecuación diferencial para la desactivación independiente de orden 1\n",
    "rd =  kd*a(t)**1             # rd define la velocidad de desactiviación\n",
    "dadt=Eq(a(t).diff(t), -rd)   # escribimos la ecuación y la guardamos en 'dadt'\n",
    "# print(latex(dadt))\n",
    "a_i1= dsolve(dadt)           # contiene la solución a la función diferencial introducida\n",
    "a_i1                         # se imprime el resultado"
   ]
  },
  {
   "cell_type": "code",
   "execution_count": 4,
   "metadata": {},
   "outputs": [
    {
     "data": {
      "text/latex": [
       "$\\displaystyle a{\\left(t \\right)} = \\frac{e^{\\frac{E_{d}}{R T}}}{C_{1} e^{\\frac{E_{d}}{R T}} + k_{d_0} t}$"
      ],
      "text/plain": [
       "Eq(a(t), exp(E_d/(R*T))/(C1*exp(E_d/(R*T)) + k_{d_0}*t))"
      ]
     },
     "execution_count": 4,
     "metadata": {},
     "output_type": "execute_result"
    }
   ],
   "source": [
    "# Resolviendo la ecuación diferencial para la desactivación independiente de orden 2\n",
    "rd =  kd*a(t)**2             # rd define la velocidad de desactiviación\n",
    "dadt=Eq(a(t).diff(t), -rd)   # escribimos la ecuación y la guardamos en 'dadt'\n",
    "a_i2= dsolve(dadt)           # contiene la solución a la función diferencial introducida\n",
    "a_i2                         # se imprime el resultado"
   ]
  },
  {
   "cell_type": "markdown",
   "metadata": {},
   "source": [
    "\n",
    "- Para desactivación paralelo\n",
    "$$ \\frac{da}{dt}=-r_d=  -k_d\\, C_i^m\\,a(t)^n = -k_{d_0}\\, e^{\\left(-\\frac{E_d}{RT}\\right)} \\, C_i^m\\,a(t)^n $$"
   ]
  },
  {
   "cell_type": "code",
   "execution_count": 5,
   "metadata": {
    "slideshow": {
     "slide_type": "fragment"
    }
   },
   "outputs": [
    {
     "data": {
      "text/latex": [
       "$\\displaystyle a{\\left(t \\right)} = C_{1} e^{- C^{m}_{i} k_{d_0} t e^{- \\frac{E_{d}}{R T}}}$"
      ],
      "text/plain": [
       "Eq(a(t), C1*exp(-C_i^m*k_{d_0}*t*exp(-E_d/(R*T))))"
      ]
     },
     "execution_count": 5,
     "metadata": {},
     "output_type": "execute_result"
    }
   ],
   "source": [
    "# Resolviendo la ecuación diferencial para la desactivación en paralelo de orden 1\n",
    "rd =  kd*Cim*a(t)**1       # rd define la velocidad de desactiviación\n",
    "dadt=Eq(a(t).diff(t), -rd) # escribimos la ecuación y la guardamos en 'dadt'\n",
    "a_p1= dsolve(dadt)           # a2 contiene la ecuacón solución a la función diferencial introducida\n",
    "a_p1                         # se imprime el resultado"
   ]
  },
  {
   "cell_type": "code",
   "execution_count": 6,
   "metadata": {},
   "outputs": [
    {
     "data": {
      "text/latex": [
       "$\\displaystyle a{\\left(t \\right)} = \\frac{e^{\\frac{E_{d}}{R T}}}{C_{1} e^{\\frac{E_{d}}{R T}} + C^{m}_{i} k_{d_0} t}$"
      ],
      "text/plain": [
       "Eq(a(t), exp(E_d/(R*T))/(C1*exp(E_d/(R*T)) + C_i^m*k_{d_0}*t))"
      ]
     },
     "execution_count": 6,
     "metadata": {},
     "output_type": "execute_result"
    }
   ],
   "source": [
    "# Resolviendo la ecuación diferencial para la desactivación en paralelo de orden 2\n",
    "rd =  kd*Cim*a(t)**2       # rd define la velocidad de desactiviación\n",
    "dadt=Eq(a(t).diff(t), -rd) # escribimos la ecuación y la guardamos en 'dadt'\n",
    "a_p2= dsolve(dadt)           # a2 contiene la ecuacón solución a la función diferencial introducida\n",
    "a_p2                         # se imprime el resultado"
   ]
  },
  {
   "cell_type": "markdown",
   "metadata": {
    "slideshow": {
     "slide_type": "slide"
    }
   },
   "source": [
    "#### Propuesta analítica de desactivación. Una aproximiación al comportamiento cinético en el seno de un reactor de flujo pistón (PFR) \n",
    "En un reactor de flujo pistón (PFR) en el que consideraremos:\n",
    "- un gradiente de concentración en la dirección del flujo, \n",
    "- concentración radial uniforme.  \n",
    "Para un volumen suficientemente pequeño la composición puede suponerse uniforme de tal modo que se verifica $ dR_{C_A}= r_{C_A}\\,dV$  \n",
    "El balance de materia de un reactanete A en estado estacionario y en un diferencial de volumen será:\n",
    "$$\\frac {\\partial C_A} {\\partial t} dV = Q\\,C|_x - Q\\,C|_{x+dx}+ r_{C_A}\\, dV$$\n",
    "Donde:\n",
    "- $\\frac {\\partial C_A} {\\partial t} [g/m^3 s]$, cambio en la concentración con respecto al tiempo \n",
    "- $C_A [g/m^3] $, concentración del reactio\n",
    "- $dv [m^3]$, elemento diferencial de volmen\n",
    "- $Q [m^3 s]$, caudal\n",
    "- $r_{C_A} [g/m^3 s]$ velocidad de reacción del reactivo.  \n",
    "\n",
    "\n",
    "Haciendo $dV= Adx$ y operando\n",
    "$$ \\frac {\\partial C} {\\partial t} = \\frac {Q}{A}\\frac {dC}{dx}+ r_{C}$$\n",
    "\n",
    "Como hemos supuesto que el flujo se encuentra en estado estacionario $\\frac {\\partial C}{\\partial t}= 0 $, la velocidad de reacción toma la forma: $ r_{C}= k\\, C^n$  \n",
    "Operando e integrando entre los límites: $C= C_{A0}, \\, C= C_A\\,$  y $\\, x= 0, \\, x= L$\n",
    "\n",
    "$$\\int_{C= C_{A0}}^{C=C_A} \\frac{dC}{kC^n}= -\\frac{A}{Q}\\int_{x= 0}^{x= L}dx=- \\frac{AL}{Q}= - \\frac{V}{Q}=t_0  $$\n",
    "\n",
    "\n",
    "Donde: \n",
    "- $t_0$ es el tiempo de retención hidráulico.   \n",
    "La ecuación anterior es la solución del balance de masa para un reactor de flujo en pistón sin dispersión longitudinal y en el tiempo de retención hidraulica.  \n",
    "Para una cinética de primer orden, la ecuación se transforma en: \n",
    "$$ C= C_2 \\, e^{-kt_0}= C_2 \\, e^{-k\\frac{A}{Q}x|_{x= 0}^{x= L}}$$"
   ]
  },
  {
   "cell_type": "markdown",
   "metadata": {
    "slideshow": {
     "slide_type": "fragment"
    }
   },
   "source": [
    "Incorporando la desactivación independiente a la ecuación obtenida y formulándola en modo simbólico para su posterior resolución, tenemos:"
   ]
  },
  {
   "cell_type": "code",
   "execution_count": 7,
   "metadata": {},
   "outputs": [
    {
     "data": {
      "text/latex": [
       "$\\displaystyle a{\\left(t \\right)} = C_{1} e^{- k_{d_0} t e^{- \\frac{E_{d}}{R T}}}$"
      ],
      "text/plain": [
       "Eq(a(t), C1*exp(-k_{d_0}*t*exp(-E_d/(R*T))))"
      ]
     },
     "execution_count": 7,
     "metadata": {},
     "output_type": "execute_result"
    }
   ],
   "source": [
    "a_i1"
   ]
  },
  {
   "cell_type": "code",
   "execution_count": 8,
   "metadata": {
    "slideshow": {
     "slide_type": "subslide"
    }
   },
   "outputs": [
    {
     "data": {
      "text/latex": [
       "$\\displaystyle \\frac{d}{d x} \\operatorname{C_{A}}{\\left(x \\right)} = - \\frac{A C_{1} k \\operatorname{C_{A}}{\\left(x \\right)} e^{- k_{d_0} t e^{- \\frac{E_{d}}{R T}}}}{Q}$"
      ],
      "text/plain": [
       "Eq(Derivative(C_A(x), x), -A*C1*k*C_A(x)*exp(-k_{d_0}*t*exp(-E_d/(R*T)))/Q)"
      ]
     },
     "execution_count": 8,
     "metadata": {},
     "output_type": "execute_result"
    }
   ],
   "source": [
    "C1 = Symbol('C1')\n",
    "A = Symbol('A')\n",
    "Q = Symbol('Q')\n",
    "k = Symbol('k')\n",
    "k0 = Symbol('k_0')\n",
    "kd =Symbol('k_d')\n",
    "t = Symbol('t')\n",
    "x = Symbol('x')\n",
    "CA0 =Symbol('C_A0')\n",
    "C = Function('C_A')\n",
    "E = Symbol('E')\n",
    "# k= k0* exp(-E/(R*T))\n",
    "rc = (A/Q)*k*C(x)*C1*exp(-kd0*t*exp(-Ed/(R*T)))\n",
    "dCdx=Eq(C(x).diff(x), -rc)\n",
    "dCdx"
   ]
  },
  {
   "cell_type": "markdown",
   "metadata": {
    "slideshow": {
     "slide_type": "fragment"
    }
   },
   "source": [
    "Resolviendo la ecuación diferencial"
   ]
  },
  {
   "cell_type": "code",
   "execution_count": 9,
   "metadata": {
    "slideshow": {
     "slide_type": "fragment"
    }
   },
   "outputs": [
    {
     "data": {
      "text/latex": [
       "$\\displaystyle \\operatorname{C_{A}}{\\left(x \\right)} = C_{2} e^{- \\frac{A C_{1} k x e^{- k_{d_0} t e^{- \\frac{E_{d}}{R T}}}}{Q}}$"
      ],
      "text/plain": [
       "Eq(C_A(x), C2*exp(-A*C1*k*x*exp(-k_{d_0}*t*exp(-E_d/(R*T)))/Q))"
      ]
     },
     "execution_count": 9,
     "metadata": {},
     "output_type": "execute_result"
    }
   ],
   "source": [
    "C= dsolve(dCdx)\n",
    "C"
   ]
  },
  {
   "cell_type": "markdown",
   "metadata": {},
   "source": [
    "Se adjunta en modo simbólico la ecuación de conversión del reactivo o reactivos que permite a la temperatura $T$, calcular la constante específica de velocidad $k$ a partir del factor de frecuencia $A_0$ y la energía de activación $E_a$.  \n",
    "Donde:  \n",
    "- $-\\frac{E_a}{RT}$, representa la fracción de colisiones moleculares que tienen energía igual o maquor que la energía de activación.\n",
    "- $A_0$, representa la frecuencia de las colisiones entre las moléculas de reactivo\n",
    "\n",
    "Como ya hicimos en la propuesta del modelo de desactivación, el modelo sugerido de conversión a lo largo del reactor adoptará la misma temperatura WABT que en la desactivación en el tiempo $t$, constante a lo largo del reactor.\n"
   ]
  },
  {
   "cell_type": "code",
   "execution_count": 10,
   "metadata": {
    "slideshow": {
     "slide_type": "fragment"
    }
   },
   "outputs": [
    {
     "data": {
      "text/latex": [
       "$\\displaystyle A_{0} e^{- \\frac{E_{0}}{R T}}$"
      ],
      "text/plain": [
       "A0*exp(-E_0/(R*T))"
      ]
     },
     "execution_count": 10,
     "metadata": {},
     "output_type": "execute_result"
    }
   ],
   "source": [
    "A0 =Symbol('A0')\n",
    "R =Symbol('R')\n",
    "T =Symbol('T')\n",
    "E0 =Symbol('E_0')\n",
    "K= A0*exp(-E0/(R*T))\n",
    "K"
   ]
  },
  {
   "cell_type": "markdown",
   "metadata": {
    "slideshow": {
     "slide_type": "slide"
    }
   },
   "source": [
    "Simulación del modelo. Para tal simulación podremos hacer barridos de variables como:\n",
    "- $T$, Temperatura media wabt [$K$],\n",
    "- $t$, tiempo [$s$],\n",
    "- $k_{d_0}$ constante de desactivación,\n",
    "- $C$, concentración del reactivo en la carga, \n",
    "- $L$, longitud del reactor [$m$],\n",
    "- $A$, área transversar del reactor[$m^2$]"
   ]
  },
  {
   "cell_type": "code",
   "execution_count": 50,
   "metadata": {
    "scrolled": false,
    "slideshow": {
     "slide_type": "fragment"
    }
   },
   "outputs": [
    {
     "data": {
      "application/vnd.jupyter.widget-view+json": {
       "model_id": "a593e1953349489ca9e89fc83e6af073",
       "version_major": 2,
       "version_minor": 0
      },
      "text/plain": [
       "interactive(children=(FloatSlider(value=5.0, description='L', max=10.0, step=0.01), FloatSlider(value=1.0, des…"
      ]
     },
     "metadata": {},
     "output_type": "display_data"
    }
   ],
   "source": [
    "# -*- coding: utf-8 -*-\n",
    "\"\"\"\n",
    "Created on Tue Dec 15 14:04:56 2018\n",
    "\n",
    "@author: ADLS\n",
    "\"\"\"\n",
    "from IPython.display import Math\n",
    "import numpy as np\n",
    "import pandas as pd\n",
    "from scipy.integrate import odeint\n",
    "import matplotlib.pyplot as plt\n",
    "import ipywidgets as widgets\n",
    "from IPython.display import display\n",
    "from ipywidgets import interactive\n",
    "%matplotlib inline\n",
    "\n",
    "df= pd.DataFrame()\n",
    "C= []\n",
    "# modelo de la velocidad de reacción con desactivación\n",
    "def modelo( C, x, kd0, t, T, A, Ed):\n",
    "    A0= 1\n",
    "    Q= 1\n",
    "#     Ed= 1 # kJ·mol^-1\n",
    "    E0= 1 # kJ·mol^-1\n",
    "    R=  1\n",
    "    C1= 1\n",
    "#     dCdx= -(A/Q)* A0* np.exp(-E0/(R* T))* C/(C1* np.exp(-kd0* t))\n",
    "    dCdx= -(A/Q)* A0* np.exp(-E0/(R* T))* C* C1* np.exp(-kd0* t* np.exp(-Ed/(R*T)))\n",
    "    return dCdx\n",
    "\n",
    "def plot(L=5, C0= 1, kd0=1e-07, t= 100, T= 300, A= 3, Ed= 100):    \n",
    "    x = np.linspace(0, L, 50)\n",
    "    t=t*86400\n",
    "    C = odeint(modelo, C0, x, args= (kd0, t, T, A, Ed))\n",
    "    print(\"%.2f\" %(100*C[-1]), \"[%]   l(rxn)[m]=  \", x[-1], \"    kd0= \", kd0)\n",
    "    T= 2* T\n",
    "    C_doble = odeint(modelo, C0, x, args= (kd0, t, T, A, Ed))\n",
    "    T= (T/2)/2\n",
    "    C_mitad = odeint(modelo, C0, x, args= (kd0, t, T, A, Ed))\n",
    "    # plot resultados\n",
    "    T= 2* T  # kd vuelve a su valor original\n",
    "    plt.plot(x, C, 'r-',  linewidth= 2, label= 'T= '+ str(T)+ ' L= '+ str(L))\n",
    "    plt.plot(x, C_doble, 'b--', linewidth= 2, label= 'T= '+ str(2*T)+ ' L= '+ str(L))\n",
    "    plt.plot(x, C_mitad, 'g:',  linewidth= 2, label= 'T= '+ str(T/2)+ ' L= '+ str(L))\n",
    "    plt.xlabel('$dirección \\, de \\, flujo (x) [m]$')\n",
    "    plt.ylabel('$ Concentración \\, de \\, reactivo $')\n",
    "    plt.legend()\n",
    "    plt.grid(True)\n",
    "    plt.show()\n",
    "    \n",
    "    df['T']= np.ravel(C)\n",
    "    df.to_excel('example.xlsx', sheet_name='example')\n",
    "\n",
    "widget = interactive(plot, C0=(0, 10, .01), L=(0, 10, .01), kd0=(0.0000001, 0.001, 0.000001),\n",
    "                     t=(0.00, 400, 100.0), T=(300, 550, 10), A=(0.00, 10, 0.1),  Ed=(0.00, 100, 1),)\n",
    "display(widget)"
   ]
  },
  {
   "cell_type": "code",
   "execution_count": 56,
   "metadata": {
    "slideshow": {
     "slide_type": "slide"
    }
   },
   "outputs": [
    {
     "name": "stdout",
     "output_type": "stream",
     "text": [
      "[1.40989144e+04 1.00000001e+00 1.03435557e-06]\n",
      "Parámetros hallados:\n",
      "C1 = 1.410e+04 ± 8.623e+02\n",
      "C2 = 1.000e+00 ± 3.519e-09\n",
      "kd0 = 1.034e-06 ± 6.639e-09\n"
     ]
    },
    {
     "data": {
      "image/png": "[encoded data removed]",
      "text/plain": [
       "<Figure size 432x288 with 1 Axes>"
      ]
     },
     "metadata": {
      "needs_background": "light"
     },
     "output_type": "display_data"
    }
   ],
   "source": [
    "import numpy as np\n",
    "import matplotlib.pyplot as plt\n",
    "from scipy.optimize import curve_fit\n",
    "import random\n",
    "import pandas as pd\n",
    "\n",
    "\n",
    "df= pd.read_excel('example.xlsx', sheet_name='example', index_col=0) \n",
    "C= df['T']\n",
    "def func( x, C1, C2, kd0):\n",
    "    return C2*np.exp(-(A/Q)* C1* np.exp(-E0/(R* T))* x* np.exp(-kd0* t/ np.exp(-Ed/(R* T))))\n",
    "\n",
    "x= np.linspace(0, 5, 50)\n",
    "kd0= 1e-07\n",
    "t= 100*86400\n",
    "T= 300\n",
    "A= 3\n",
    "R= 8.31*10**-3 \n",
    "Q= 1   \n",
    "Ed= 1.597e-01 # kJ·mol^-1\n",
    "E0= 1.616e+00 # kJ·mol^-1\n",
    "po= []\n",
    "pc= []\n",
    "\n",
    "plt.plot(x, C, \"r--\")\n",
    "plt.xlabel('$dirección \\, de \\, flujo (x) [m]$')\n",
    "plt.ylabel('$ Concentración \\, de \\, reactivo $')\n",
    "plt.grid(True)\n",
    "\n",
    "param_ini= [0, 1, 10**-6]\n",
    "popt, pcov = curve_fit(func, x, C, p0=param_ini, maxfev = 1000000)\n",
    "po.append(popt)\n",
    "pc.append(pcov)\n",
    "\n",
    "plt.plot(x, func(x, *popt), 'b--')\n",
    "\n",
    "print(popt)\n",
    "# de la matriz de covarinza podemos obtener los valores de desviacion estandarde los parametros hallados\n",
    "pstd = np.sqrt(np.diag(pcov))\n",
    "nombres_de_param=['C1','C2','kd0']\n",
    "print('Parámetros hallados:')\n",
    "for i,param in enumerate(popt):\n",
    "    print('{:s} = {:5.3e} ± {:5.3e}'.format( nombres_de_param[i] , param , pstd[i]/2) )\n"
   ]
  },
  {
   "cell_type": "code",
   "execution_count": 62,
   "metadata": {},
   "outputs": [
    {
     "data": {
      "application/vnd.jupyter.widget-view+json": {
       "model_id": "429c24a2036642af9472af5254aa057d",
       "version_major": 2,
       "version_minor": 0
      },
      "text/plain": [
       "interactive(children=(FloatSlider(value=5.0, description='L', max=10.0, step=0.01), IntSlider(value=1, descrip…"
      ]
     },
     "metadata": {},
     "output_type": "display_data"
    }
   ],
   "source": [
    "# -*- coding: utf-8 -*-\n",
    "\"\"\"\n",
    "Created on Tue Dec 15 14:04:56 2018\n",
    "\n",
    "@author: ADLS\n",
    "\"\"\"\n",
    "from IPython.display import Math\n",
    "import numpy as np\n",
    "import pandas as pd\n",
    "from scipy.integrate import odeint\n",
    "import matplotlib.pyplot as plt\n",
    "import ipywidgets as widgets\n",
    "from IPython.display import display\n",
    "from ipywidgets import interactive\n",
    "%matplotlib inline\n",
    "\n",
    "df= pd.DataFrame()\n",
    "C= []\n",
    "# modelo de la velocidad de reacción con desactivación\n",
    "def modelo( C, x, kd0, t, T, A, E0):\n",
    "    A0= 1\n",
    "    Q= 1\n",
    "    Ed= 1.597e-01 # kJ·mol^-1\n",
    "#     E0= 1.616e+00 # kJ·mol^-1\n",
    "    R= 1\n",
    "    C1= 5.572e-01\n",
    "       \n",
    "    dCdx= -(A/Q)* A0* np.exp(-E0/(R* T))* C* C1* np.exp(-kd0* t* np.exp(-Ed/(R*T)))\n",
    "    return dCdx\n",
    "\n",
    "def plot(L=5,C0= 1, kd0=2.717e-03, t= 1, T= 1, A= 3, E0= 2): \n",
    "    x = np.linspace(0, L, 50)\n",
    "    C = odeint(modelo, C0, x, args= (kd0, t, T, A, E0))\n",
    "    print(\"%.2f\" %(100*C[-1]), \"[%]   l(rxn)[m]=  \", x[-1], \"    kd0= \", kd0)\n",
    "    T= 2* T\n",
    "    C_doble = odeint(modelo, C0, x, args= (kd0, t, T, A, E0))\n",
    "    T= (T/2)/2\n",
    "    C_mitad = odeint(modelo, C0, x, args= (kd0, t, T, A, E0))\n",
    "    # plot resultados\n",
    "    T= 2* T  # kd vuelve a su valor original\n",
    "    plt.plot(x, C, 'r-',  linewidth= 2, label= 'T= '+ str(T)+ ' L= '+ str(L))\n",
    "    plt.plot(x, C_doble, 'b--', linewidth= 2, label= 'T= '+ str(2*T)+ ' L= '+ str(L))\n",
    "    plt.plot(x, C_mitad, 'g:',  linewidth= 2, label= 'T= '+ str(T/2)+ ' L= '+ str(L))\n",
    "    plt.xlabel('$dirección \\, de \\, flujo (x) [m]$')\n",
    "    plt.ylabel('$ Concentración \\, de \\, reactivo $')\n",
    "    plt.legend()\n",
    "    plt.grid(True)\n",
    "    plt.show()\n",
    "    \n",
    "    df['T']= np.ravel(C)\n",
    "    df.to_excel('example.xlsx', sheet_name='example')\n",
    "\n",
    "widget = interactive(plot, E0=(0, 2000, 100), L=(0, 10, .01), kd0=(0.0001, 1, 0.001),\n",
    "                     t=(0.00, 400, 100.0), T=(300, 550, 25), A=(0.00, 10, 0.1),)\n",
    "display(widget)"
   ]
  },
  {
   "cell_type": "code",
   "execution_count": 61,
   "metadata": {},
   "outputs": [
    {
     "name": "stdout",
     "output_type": "stream",
     "text": [
      "[ 6.50323932e+01 -6.10653616e+01  3.70406883e-06]\n",
      "Parámetros hallados:\n",
      "C1 = 6.503e+01 ± 7.517e+00\n",
      "E0 = -6.107e+01 ± 1.031e+00\n",
      "kd0 = 3.704e-06 ± 3.254e-08\n"
     ]
    },
    {
     "data": {
      "image/png": "[encoded data removed]",
      "text/plain": [
       "<Figure size 432x288 with 1 Axes>"
      ]
     },
     "metadata": {
      "needs_background": "light"
     },
     "output_type": "display_data"
    }
   ],
   "source": [
    "import numpy as np\n",
    "import matplotlib.pyplot as plt\n",
    "from scipy.optimize import curve_fit\n",
    "import random\n",
    "import pandas as pd\n",
    "\n",
    "# %matplotlib auto\n",
    "\n",
    "df= pd.read_excel('example.xlsx', sheet_name='example', index_col=0) \n",
    "C= df['T']\n",
    "def func( x, C1, E0, kd0):\n",
    "    return C2*np.exp(-(A/Q)* C1* np.exp(-E0/(R* T))* x* np.exp(-kd0* t/ np.exp(-Ed/(R* T))))\n",
    "C2= 1\n",
    "x= np.linspace(0, 5, 50)\n",
    "kd0= 1e-07\n",
    "t= 100*86400   # s\n",
    "T= 300         # K\n",
    "A= 3           # m^2\n",
    "R= 8.31*10**-3 # kJ·mol^-1·K\n",
    "Q= 0.008       # m^3/s   \n",
    "Ed= 1.597e-01  # kJ·mol^-1\n",
    "# E0= 1.616e+00  # kJ·mol^-1\n",
    "po= []\n",
    "pc= []\n",
    "\n",
    "plt.plot(x, C, \"r--\")\n",
    "plt.xlabel('$dirección \\, de \\, flujo (x) [m]$')\n",
    "plt.ylabel('$ Concentración \\, de \\, reactivo $')\n",
    "plt.grid(True)\n",
    "\n",
    "param_ini= [0, 1, 10**-6]\n",
    "popt, pcov = curve_fit(func, x, C, p0=param_ini, maxfev = 1000000)\n",
    "po.append(popt)\n",
    "pc.append(pcov)\n",
    "\n",
    "plt.plot(x, func(x, *popt), 'b--')\n",
    "\n",
    "print(popt)\n",
    "# de la matriz de covarinza podemos obtener los valores de desviacion estandarde los parametros hallados\n",
    "pstd = np.sqrt(np.diag(pcov))\n",
    "nombres_de_param=['C1','E0','kd0']\n",
    "print('Parámetros hallados:')\n",
    "for i,param in enumerate(popt):\n",
    "    print('{:s} = {:5.3e} ± {:5.3e}'.format( nombres_de_param[i] , param , pstd[i]/2) )\n"
   ]
  },
  {
   "cell_type": "markdown",
   "metadata": {
    "slideshow": {
     "slide_type": "slide"
    }
   },
   "source": [
    "https://marceluda.github.io/python-para-fisicos/tuto/analisis/ajuste-no-lineal/"
   ]
  },
  {
   "cell_type": "markdown",
   "metadata": {
    "slideshow": {
     "slide_type": "slide"
    }
   },
   "source": [
    "#### Modelo matemático ajustado de la desactiviación.\n",
    "Dado el modelo de desactivación catalítica de orden 'n' en función de una reacción de orden 'm', pasamos a deducir del modelo matemático los valores de los parámetros, estos deben ser los mas fieles a los datos obtenidos desde el proceso. El método mas común para construir una correspondencia entre los datos reales y los matemáticos es utilizando el método de mínimos cuadrados.\n",
    "Partimos con los datos del proceso. Estos se definen en series temporales y en forma vectorial, a saber:  \n",
    "- Concentración en el eflueente del reactivo [$mol/m^3$].\n",
    "- tiempo [$s$].\n",
    "- Temperatura media en el Rx [$K$].\n",
    "- Concentración en la entrada del Rx del reactivo  [$mol/m^3$].\n",
    "- ...\n",
    "\n",
    "Definida la función modelo que creemos describe el fenómeno medido. Esta, tiene como argumento de entrada los valores de t y como salida una predicción para valores de C. A su vez, depende de parámetros. como:\n",
    "- $C_1$, constante obtenida a partir de la resolución de la ecuación diferencial en $t$ (vida del catalizador).\n",
    "- $C_2$, constante obtenida a partir de la resolución de la ecuación diferencial en $x$ (trayectorial de la reacción)\n",
    "- $k_d$, esta es la constante de desactivación.\n",
    "$$f_{C_1, C_2, k_d}(t)|_T= C_2 e^{-\\left(\\frac {A\\,e^{\\left(\\frac{-E_0}{R\\,T}\\right)}\\,x\\,C_1\\,e^{\\left(-k_d\\,t\\right)}}{Q}\\right)}$$\n",
    "##### Ajuste del modelo utilizando la funicón cuver_fit\n",
    "Para el ajuste con la función curve_fit se requiere definir la variable independiente, en nuestro caso 't'. Se incluye una segunda variable que indicará los valores que debe alcanzar la respuesta en función de la variable t ya introducida, para ello la función de ajuste manipulará un conjunto de parámetros, indicando previamente los valores iniciales para los parámetros como punto de partida del algoritmo de ajuste.\n",
    "\n",
    "\n",
    "Es importante conocer un estimador que nos indique, evaluando el modelo, con que grado el modelo se aproxima a los datos del proceso, para ello describimos un coeficiente de determinación $R^2$, el resultado del coeficiente de determinación oscila entre 0 y 1. Cuanto más cerca de 1 se sitúe su valor, mayor será el ajuste del modelo a la variable que estamos intentando explicar. De forma inversa, cuanto más cerca de cero, menos ajustado estará el modelo y, por tanto, menos fiable será.\n",
    "\n",
    "\n",
    "##### Coeficiente de determinación. $R^2$\n",
    "$$ R^2= \\frac{\\sum_{t=1}^{t= n} \\left({Y_t} -\\hat{Y} \\right)^2}{\\sum_{t=1}^{t= n} \\left({Y_t} -\\vec{Y} \\right)^2}   $$"
   ]
  },
  {
   "cell_type": "code",
   "execution_count": 13,
   "metadata": {
    "slideshow": {
     "slide_type": "slide"
    }
   },
   "outputs": [
    {
     "name": "stdout",
     "output_type": "stream",
     "text": [
      "Coeficiente de determinacion R2 y parámetros optimizados:\n",
      "R2 = 0.999  param._opt.: [1.00646417e-02 9.25613092e-01 1.15824149e-08]\n"
     ]
    }
   ],
   "source": [
    "print('Coeficiente de determinacion R2 y parámetros optimizados:')\n",
    "# Suma de los cuadrados de los residuos\n",
    "ss_res = np.sum( (C - func(t, *popt))**2 )\n",
    "\n",
    "# Suma total de cuadrados\n",
    "ss_tot = np.sum( (C - np.mean(C) )**2  )\n",
    "\n",
    "R2     =1- (ss_res / ss_tot)\n",
    "print('R2 = {:5.3f}'.format(R2), \" param._opt.:\", popt )"
   ]
  },
  {
   "cell_type": "code",
   "execution_count": 14,
   "metadata": {
    "slideshow": {
     "slide_type": "slide"
    }
   },
   "outputs": [
    {
     "data": {
      "text/plain": [
       "Text(0.5, 0, 'dias')"
      ]
     },
     "execution_count": 14,
     "metadata": {},
     "output_type": "execute_result"
    },
    {
     "data": {
      "image/png": "[encoded data removed]",
      "text/plain": [
       "<Figure size 432x288 with 1 Axes>"
      ]
     },
     "metadata": {
      "needs_background": "light"
     },
     "output_type": "display_data"
    }
   ],
   "source": [
    "# Carga de datos, concentración del reactivo en el efluente\n",
    "archivo= 'example.xlsx'\n",
    "hoja= 'example'\n",
    "\n",
    "df = pd.read_excel(archivo, sheet_name=hoja, index_col=0)\n",
    "C= df['T']\n",
    "T= np.linspace(300, 500, 50)\n",
    "plt.plot(td, C, \"r--\")\n",
    "plt.ylabel('$C_A$ Concentración de reactivo en el efluente')\n",
    "plt.xlabel('dias')\n"
   ]
  },
  {
   "cell_type": "code",
   "execution_count": 15,
   "metadata": {
    "slideshow": {
     "slide_type": "slide"
    }
   },
   "outputs": [
    {
     "data": {
      "text/plain": [
       "[<matplotlib.lines.Line2D at 0x7fbe54279ac0>]"
      ]
     },
     "execution_count": 15,
     "metadata": {},
     "output_type": "execute_result"
    },
    {
     "data": {
      "image/png": "[encoded data removed]",
      "text/plain": [
       "<Figure size 432x288 with 1 Axes>"
      ]
     },
     "metadata": {
      "needs_background": "light"
     },
     "output_type": "display_data"
    }
   ],
   "source": [
    "import numpy as np\n",
    "import matplotlib.pyplot as plt\n",
    "from scipy.optimize import curve_fit\n",
    "import random\n",
    "import pandas as pd\n",
    "\n",
    "df= pd.DataFrame()\n",
    "\n",
    "\n",
    "\n",
    "def func( t, C1, C2, k_d): \n",
    "    return C2*np.exp(-A/Q *k* L*C1* np.exp(-k_d* t))\n",
    "\n",
    "A= 1 # radio de 1.6 metros\n",
    "E= 1\n",
    "R= E/450\n",
    "Q= random.uniform(0.00795, 0.00805)  #m3/s\n",
    "L= 5\n",
    "\n",
    "k_d= 1/(86400*1000)\n",
    "T= np.linspace(300, 500, 935)\n",
    "t= np.linspace(0, 3500*86400, 935)\n",
    "k= 1* np.exp(-E/(R*T))\n",
    "\n",
    "archivo= 'example.xlsx'\n",
    "hoja= 'example'\n",
    "\n",
    "df = pd.read_excel(archivo, sheet_name=hoja, index_col=0)\n",
    "C= df['T']\n",
    "\n",
    "td= (t/86400).astype(int)\n",
    "param_ini= [0, 1, 0]\n",
    "popt, pcov = curve_fit(func, t, C, p0=param_ini)\n",
    "\n",
    "plt.plot(td, T/500, 'go')\n",
    "plt.plot(td, func(t, *popt), 'b--')"
   ]
  },
  {
   "cell_type": "markdown",
   "metadata": {
    "slideshow": {
     "slide_type": "slide"
    }
   },
   "source": [
    "https://sites.google.com/site/bioingenieriauv15/unidad-2-biorreactores-y-su-aplicacion/2-3-reactor-de-flujo-piston  \n",
    "https://www.youtube.com/watch?v=lG3EO6SzqcM  \n",
    "http://oa.upm.es/42867/1/TFG_GUILLERMO_NIEVA_GARCIA_VILLARACO.pdf   punto 3.1 ecuaciones de modelo pag 40\n",
    "\n",
    "https://apmonitor.com/pdc/index.php/Main/PhysicsBasedModels\n",
    "https://jckantor.github.io/CBE30338/   libro muy interesante\n",
    "\n",
    "https://sites.google.com/site/bioingenieriauv15/unidad-2-biorreactores-y-su-aplicacion/2-3-reactor-de-flujo-piston balance de masa, ver última ecuación  \n"
   ]
  },
  {
   "cell_type": "markdown",
   "metadata": {
    "slideshow": {
     "slide_type": "slide"
    }
   },
   "source": [
    "##### Desactivación de los catalizadores\n",
    "Las transformaciones físico químicas que se suceden en el seno de un reactor 'rxn' tiene como efecto alteraciones en la actividad del catalizador. En el documento analizaremos tres modelos (las tres E) de desactivación, a saber:\n",
    "- Envejecimiento, es una degradacón térmica, sinterización de las áreas activas del catalizador  (sintering)\n",
    "- Ensuciamiento, son deposiciones física de la carga líquida sobre la superficie del catalizador (fouling)\n",
    "- Envenenamiento, se debe a la quimiadsorción de los centros activos, generalmente por impurezas (poisoning)"
   ]
  },
  {
   "cell_type": "markdown",
   "metadata": {
    "slideshow": {
     "slide_type": "slide"
    }
   },
   "source": [
    "##### Modelo de desactivación por envejecimiento  \n",
    "La pérdida de actividad por envejecimiento es un proceso reactivo en el que la estructura del catalizador se degrada, pudidendo ser:\n",
    "* reducción de a superficie específica\n",
    "* limitación u obstrucción de los poros\n",
    "* alteración en la constitución de las zonas activas.\n",
    "El envejeciminto se ve potenciado por la temperatura y con poca frecuencia depende de los reactivos. Para su modelado se asume una cinética configurable, dejando al ingeniero el ajuste.  \n",
    "La velocidad de desactivación por envejecimiento para una cinética de orden $2$ con respecto a la actividad:  \n",
    "$$ r_d= -\\frac{da}{dt}= k_d a(t)^2$$ \n",
    "donde:\n",
    "    - $k_d$ constante de desactivación  \n",
    "para la cinética definida la actividad catalítica en el tiempo será:\n",
    "$ a(t)= \\frac{1}{1+k_d\\, t}$"
   ]
  },
  {
   "cell_type": "markdown",
   "metadata": {
    "slideshow": {
     "slide_type": "slide"
    }
   },
   "source": [
    "##### Modelo de desactivación por ensuciamiento  \n",
    "La degradación por coque es la causa fundamental de la desactivación por ensuciamiento de los catalizadores,  fundamentalmente en la industria química y petroquímica. El coque es un combustible con pocas impurezas y un alto contenido de carbono, el contenido carbonoso es adsorbido por la superficie catalítica, bloqueando: parte de los centros activos o los poros de acceso al centro activo, impidiendo a los reactivos el paso hacia los centros activos."
   ]
  },
  {
   "cell_type": "markdown",
   "metadata": {
    "slideshow": {
     "slide_type": "subslide"
    }
   },
   "source": [
    "La actividad catalítica en un rxn determina su desactivación, analíticamente se expresa como: $$ a= \\frac{velocidad\\,de\\,reacción\\,en\\,t_i}{velocidad\\,de\\,reacción\\,en\\,t_0}= \\frac {-r_A|_{t_i}}{(-r_A)|_{t_0}}$$\n",
    "- La velocidad de reacción en $t_0$ del reactivo A será:  $$ -r_A|{t_0}= k(T)\\, f_n(C_A, C_B, . . .,  C_Y, C_Z,..., C\\gamma)$$\n",
    "- y para $t_i$ tenemos: $$ -r_A|{t_i}= a(t)\\, k(T)\\, f_n(C_A, C_B, . . .,  C_Y, C_Z,..., C\\gamma)$$\n",
    "- Donde:  \n",
    "  $a(t)$.- especifica la actividad catalítica en función del tiempo  \n",
    "  $k(T)$.- constante cinética en función de la temperatura  \n",
    "  $C_i$.- concentración de: $\\;reactivos:\\,  C_A, C_B...\\;\\;productos:\\,...,C_Y,C_Z,\\;\\; impurezas:\\, ...C\\gamma$"
   ]
  },
  {
   "cell_type": "markdown",
   "metadata": {
    "slideshow": {
     "slide_type": "subslide"
    }
   },
   "source": [
    "Para una cinética de orden $n$ y un modelo de dependencia de la temperatura tipo Arrhenius, la velocidad de reacción de un reactivo será: $$ -r_A|_{t_i}= K e^{-\\frac{E}{RT}}\\,C_A^n\\,a(t) $$  \n",
    "La velocidad de desactivación de un catalizador $r_d$, se define como la variación de la actividad con el tiempo, en función de la temperatura, de la caracterización de la corriente gaseosa y de la propia actividad $$r_d= -\\frac{da}{dt}= g(a)\\, k_d(T)\\, f(C_A, C_B, . . .,  C_Y, C_Z,..., C\\gamma)= k_d C_i^m a^p= k_{d0}\\,e^{-\\frac{E_{d}}{RT}}C_i^m a^p$$\n",
    "Donde:\n",
    "- $k_d$ constante de desactivación\n",
    "- $k_{d0}$ constante de desactivación inicial\n",
    "- $a$ actividad del catalizador  \n",
    "    Para algunos autores $a= \\frac{d}{d_0}$, siendo d la dispersión del metal\n",
    "- $p$ se denonima orden de dasactivación, \n",
    "- $m$ mide la dependencia de la concentración,\n",
    "- $E_{Ad}$ es la energía de activación para la reacción de desactivación con la temperatura\n",
    "    "
   ]
  },
  {
   "cell_type": "markdown",
   "metadata": {
    "slideshow": {
     "slide_type": "subslide"
    }
   },
   "source": [
    "#### Reacciones  \n",
    "En general la rapidez de las reacciones químicas de una sustancia o la velociadad a la que se descompone las moléculas es proporcional a la cantidad de dicha sustancia. De este modo siendo $C(t)$ la cantidad de una determinada molécula o sustancia en el tiempo $t$, analíticamente se escribe como $\\frac{dC}{dt}= k dC$, donde:  \n",
    "$k$, es una constante que depende la $C$.  \n",
    "En nuestro análisis empleraciones modelos de este tipo, llamados de primer orden."
   ]
  }
 ],
 "metadata": {
  "celltoolbar": "Slideshow",
  "kernelspec": {
   "display_name": "Python 3",
   "language": "python",
   "name": "python3"
  },
  "language_info": {
   "codemirror_mode": {
    "name": "ipython",
    "version": 3
   },
   "file_extension": ".py",
   "mimetype": "text/x-python",
   "name": "python",
   "nbconvert_exporter": "python",
   "pygments_lexer": "ipython3",
   "version": "3.7.4"
  }
 },
 "nbformat": 4,
 "nbformat_minor": 4
}
